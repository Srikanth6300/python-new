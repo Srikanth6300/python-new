{
  "nbformat": 4,
  "nbformat_minor": 0,
  "metadata": {
    "colab": {
      "name": "module 3.ipynb",
      "provenance": [],
      "authorship_tag": "ABX9TyNoohFOdbDeZJvV2sgx4N0K",
      "include_colab_link": true
    },
    "kernelspec": {
      "name": "python3",
      "display_name": "Python 3"
    },
    "language_info": {
      "name": "python"
    }
  },
  "cells": [
    {
      "cell_type": "markdown",
      "metadata": {
        "id": "view-in-github",
        "colab_type": "text"
      },
      "source": [
        "<a href=\"https://colab.research.google.com/github/Srikanth6300/python-new/blob/module-3/module_3.ipynb\" target=\"_parent\"><img src=\"https://colab.research.google.com/assets/colab-badge.svg\" alt=\"Open In Colab\"/></a>"
      ]
    },
    {
      "cell_type": "code",
      "source": [
        "##read an entire text file.\n",
        "import pandas as pd\n",
        "srikanth = {'companies':['Amazon','Wipro','Adantel','Adobe'],'location':['vjy','Vsp','Blr','hyd']}\n",
        "x = pd.DataFrame(srikanth)\n",
        "print(x)"
      ],
      "metadata": {
        "id": "yaTOPuPmqYS1"
      },
      "execution_count": null,
      "outputs": []
    },
    {
      "cell_type": "code",
      "source": [
        "##read the first n lines of a file.\n",
        "import pandas as pd\n",
        "sk = {'companies':['Amazon','Wipro','Adantel','Adobe'],'location':['Hyd','Vsp','Blr','Chennai']}\n",
        "x = pd.DataFrame(sk)\n",
        "print(x)"
      ],
      "metadata": {
        "id": "nYfOpJgIqjg4"
      },
      "execution_count": null,
      "outputs": []
    },
    {
      "cell_type": "code",
      "source": [
        "Check version\n",
        "import pandas as pd\n",
        "\n",
        "print(pd.version)"
      ],
      "metadata": {
        "id": "KvKWXGQGquIW"
      },
      "execution_count": null,
      "outputs": []
    },
    {
      "cell_type": "code",
      "source": [
        "##append text to a file and display the text.\n",
        "import pandas as pd\n",
        "marks = [98,65.89,45,28]\n",
        "sk = pd.Series(marks)\n",
        "print(sk)"
      ],
      "metadata": {
        "id": "yFm0ZylIq0ct"
      },
      "execution_count": null,
      "outputs": []
    },
    {
      "cell_type": "code",
      "source": [
        "##Read numbers from a file and write even and odd numbers to separate files.\n",
        "import pandas as pd\n",
        "marks = [98,32.9,41,28]\n",
        "sk = pd.Series(marks)\n",
        "print(sk)\n",
        "print(sk[2])"
      ],
      "metadata": {
        "id": "1N8-SqT4rFHA"
      },
      "execution_count": null,
      "outputs": []
    },
    {
      "cell_type": "code",
      "source": [
        "##x Count characters, words and lines in a text file.\n",
        "import pandas as pd\n",
        "marks = [28, 29.5, 15]\n",
        "sk = pd.Series(marks, index = [\"Dhanush\", \"sai\", \"bhanu\"])\n",
        "print(sk)"
      ],
      "metadata": {
        "id": "3A7OcdUcrTHb"
      },
      "execution_count": null,
      "outputs": []
    },
    {
      "cell_type": "code",
      "source": [
        "##Write a Pandas program to read specific columns from a given excel file\n",
        "import pandas as pd\n",
        "marks = [28, 29.5, 15]\n",
        "sk = pd.Series(marks, index = [\"Dhanush\", \"sai\", \"bhanu\"])\n",
        "print(sk)\n",
        "print(mymarks[\"sai\"])"
      ],
      "metadata": {
        "id": "mW9PwRfsripz"
      },
      "execution_count": null,
      "outputs": []
    },
    {
      "cell_type": "code",
      "source": [
        "##x To write a list to a file.\n",
        "import pandas as pd\n",
        "sk = {\"d1\": 12, \"d2\": 10, \"d3\": 8}\n",
        "z = pd.Series(sk)\n",
        "print(z)"
      ],
      "metadata": {
        "id": "9a_6vABQr1QU"
      },
      "execution_count": null,
      "outputs": []
    },
    {
      "cell_type": "code",
      "source": [
        "##Print only limited data as per the labels:\n",
        "import pandas as pd\n",
        "sk = {\"d1\": 12, \"d2\": 10, \"d3\": 8}\n",
        "x = pd.Series(sk,index=[\"d1\",\"d2\"])\n",
        "print(x)"
      ],
      "metadata": {
        "id": "gKL1WqBAsDXS"
      },
      "execution_count": null,
      "outputs": []
    },
    {
      "cell_type": "code",
      "source": [
        "##Given a dataframe, select rows based on a condition.\n",
        "import pandas as pd\n",
        "sk = {\n",
        "  \"Employees\": [\"Dhanush\", \"sai\", \"bhanu\"],\n",
        "  \"Publications\": [50, 40, 45]\n",
        "}\n",
        "x = pd.DataFrame(sk)\n",
        "print(x)"
      ],
      "metadata": {
        "id": "X9tBacY1sSm5"
      },
      "execution_count": null,
      "outputs": []
    },
    {
      "cell_type": "code",
      "source": [
        "##Given a dataframe, select rows based on a condition.\n",
        "import pandas as pd\n",
        "empPublications = {\n",
        "  \"Employees\": [\"srikanth\", \"tejas\", \"ajju\"],\n",
        "  \"Publications\": [50, 40, 45]\n",
        "}\n",
        "myvar = pd.DataFrame(empPublications,index=[\"2001\",\"2002\",\"2003\"])\n",
        "print(myvar)\n",
        "print(myvar.loc[\"2001\"])"
      ],
      "metadata": {
        "id": "TNJPYHFOsrKm"
      },
      "execution_count": null,
      "outputs": []
    },
    {
      "cell_type": "code",
      "source": [
        "##x Given a CSV file or excel file to read it into a dataframe and display it.\n",
        "import pandas as pd\n",
        "df = pd.read_csv('sk.csv')\n",
        "print(df)"
      ],
      "metadata": {
        "id": "DNmBXXgMs2Hp"
      },
      "execution_count": null,
      "outputs": []
    },
    {
      "cell_type": "markdown",
      "source": [
        ""
      ],
      "metadata": {
        "id": "EfJR-Z7MtH6p"
      }
    },
    {
      "cell_type": "code",
      "source": [
        "##Given is a dataframe showing the name, occupation, salary of people. Find the average salary per occupation.\n",
        "import pandas as pd\n",
        "df = pd.read_csv('sk.csv')\n",
        "print(df.to_string())"
      ],
      "metadata": {
        "id": "fyIUqoGFs8kt"
      },
      "execution_count": null,
      "outputs": []
    },
    {
      "cell_type": "code",
      "source": [
        "##x Given a dataframe, select rows based on a condition.\n",
        "import pandas as pd\n",
        "pd.options.display.max_rows = 999\n",
        "df = pd.read_csv(‘sk.csv’)\n",
        "print(df)"
      ],
      "metadata": {
        "id": "Xgn0SzfXtHlD"
      },
      "execution_count": null,
      "outputs": []
    }
  ]
}